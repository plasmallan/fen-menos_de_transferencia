{
 "cells": [
  {
   "cell_type": "markdown",
   "id": "682c76fa",
   "metadata": {},
   "source": [
    "# Descripción del método de extracción\n",
    "\n",
    "El procedimiento para la preparación del café viene dado de la siguiente manera:\n",
    "\n",
    "1. Utilice 30 g de café molido. La molienda debe ser media, una granulometría media entre azúcar y sal de mesa, esto para que exista una buena superficie de contacto entre el grano molido de café y el agua, permitiendo alcanzar una mejor extracción sin que el granulado atraviese el filtro.\n",
    "2. En total se utilizarán 500 mL de agua, ellos se verterán de la siguiente manera:\n",
    "    1. En el tiempo 0 vierta 60 g de agua, agite con una cuchara para mojar toda la cama de café y espere. Esto permite calentar el granulado y prepararlo para el proceso de extracción, las capas más superficiales de la molienda se van a suavizar, de forma que se comienza a liberar el café que se desea extraer.\n",
    "    2. A los 30 segundos continúe vertiendo agua, debe verterla de tal forma que a los 60 segundos haya vertido un total de 300 mL (los 60 mL iniciales incluidos). En este momento, inicia el proceso de extracción, se realiza por partes para poder garantizar que cada porción de agua añadida extraiga de forma efectiva.\n",
    "    3. A los 60 segundos disminuya el flujo y vierta los restantes 200 mL en los siguientes 30 segundos. Esto permite realizar una extracción más profunda de los residuos de café restantes.\n",
    "3. Agite la superficie del café con un giro en cada sentido, esto permite garantizar una mayor uniformidad.\n",
    "4. Deje que el café termine de filtrarse."
   ]
  },
  {
   "cell_type": "markdown",
   "id": "3b7c8179",
   "metadata": {},
   "source": [
    "# Parámetros y variables\n",
    "\n",
    "Las **variables**:\n",
    "- Concentración de café.\n",
    "- Flujo de volumen de agua.\n",
    "- Masa de café molido.\n",
    "- Flujo de salida de café.\n",
    "\n",
    "Los **parámetros**:\n",
    "- Porosidad del chorreador.\n",
    "- Coeficiente de difusividad másica del café molido.\n",
    "- Factor de fricción del café molido.\n",
    "- Número de Reynolds del agua atravesando el café molido.\n",
    "- Densidad del agua caliente.\n",
    "- Densidad del café a la salida del chorreador.\n",
    "- Área transversal del flujo.\n",
    "- Concentración de café a la salida del chorreador.\n",
    "- Espesor de la cama de café molido.\n",
    "- Viscosidad de la disolución de café en agua."
   ]
  },
  {
   "cell_type": "markdown",
   "id": "2cf3e156",
   "metadata": {},
   "source": [
    "# Ecuaciones necesarias\n",
    "\n",
    "1. **Leyes de Fick**: Permiten definir la forma en la que se distribuye la masa de los gránulos de café en el tiempo y cómo va cambiando la concentración. $$\\vec{J}=-D\\nabla C$$ $$\\frac{\\partial C}{\\partial t}=D\\nabla^2 C$$ En el artículo ``Coffee extraction: A review of parameters and their influence on the physicochemical characteristics and flavour of coffee brews`` en las ecuaciones $1$, $2$ y $3$ se muestra la aplicación de la primera ley de Fick para el flujo de café de la forma: $$J=AD_{\\textrm{café}}\\frac{\\left(c'-c_{1}'\\right)}{r}$$ $$J=A\\left(k_{1}c_{1}'-k_{-1}c_{1}\\right)$$ $$J=AD_{\\textrm{solución}}\\frac{\\left(c_{1}-c\\right)}{\\delta}$$ En el caso de la segunda Ley de Fick, es necesario realizar un planteamiento similar para la parte temporal, y para la espacial, se puede plantear similar al caso de la primera Ley de Fick de forma que se toman las expresiones para $\\nabla C$, de donde se obtienen dos ecuaciones para los dos regímenes: $$\\frac{dC}{dt}=D_{\\textrm{café}}\\frac{\\left(-c'+c_{1}'\\right)^2}{r^2}$$ $$\\frac{dC}{dt}=D_{\\textrm{solución}}\\frac{\\left(-c_{1}+c\\right)^2}{\\delta^2}$$ Entre las dos ecuaciones se logra obtener la solución para todo el espacio.\n",
    "\n",
    "2. **Ley de Darcy**: Permite obtener el flujo de café a la salida del chorreador. $$G=\\frac{kA}{\\mu L}\\left(\\Delta p\\right)$$\n",
    "    - Para encontrar el valor de $\\Delta p$, se debe realizar un balance de masa, de la forma $G_{i}-G=Ah$, de donde se obtiene el valor de la columna $h$ en el tiempo, que permite obtener la presión en la cama de café, y la atmosférica en la salida del chorreador. De donde se obtiene que $\\Delta p=\\rho gh$. $$G=\\frac{kA}{\\mu L}\\left(\\rho gh\\right)$$ Donde $h$ corresponde a la altura de la columna de agua.\n",
    "    \n",
    "3. **Ecuación de la viscosidad del café**: A partir de la fracción de sólidos en la disolución de café y la temperatura de estos, se tiene que la viscosidad de la disolución está dada por la ecuación del artículo ``Viscosity and electrical conductivity of concentrated solutions of soluble coffee`` $$\\mu=\\exp{\\left[-12.96-9.43\\omega+8.12\\omega^2+\\left(1789+4382\\omega\\right)/\\left(T+273.15\\right)\\right]}$$\n",
    "    - La temperatura $T$ será tomada como $87.5$ °C, con $\\omega=0.01325$, de forma que la viscosidad a utilizar tendrá un valor de $\\mu=0.000\\,348\\,44$ Pa s.\n",
    "\n",
    "4. **Ecuación de permeabilidad**: Permite obtener el coeficiente de permeabilidad $k$ a partir de lo expuesto en la ecuación $3$ del artículo ``A new methodology to estimate the steady-state permeability of roast and ground coffee in packed beds``. $$k=\\frac{\\varepsilon_{\\textrm{cama}}^3d_{s}^2}{180\\left(1-\\varepsilon_{\\textrm{cama}}\\right)^2}$$\n",
    "\n",
    "# Acople de los modelos\n",
    "\n",
    "Se pueden acoplar las ecuaciones a través de la ecuación de continuidad, utilizando la Ley de Darcy para definir el flujo a través de la cama de café molido, tomando la viscosidad a partir de la ecuación dada por el artículo, así como la permeabilidad de la última ecuación mostrada. Este flujo podría a través del flujo de masa del fluido de café, pasarse a concentración, introducirse en la primera Ley de Fick, que podría luego acoplarse a través de la ecuación de continuidad con la segunda Ley de Fick:\n",
    "\n",
    "$$\\frac{\\partial C}{\\partial t}+\\nabla\\cdot \\vec{J}=R$$\n",
    "\n",
    "Donde $R$ corresponde a una fuente de concentración $C$ que vendría siendo la dada por la cama de café.\n",
    "\n",
    "# Propuesta de mejora para el chorreador costarricense\n",
    "\n",
    "- La base de la bolsa debería ser plana, para mantener la uniformidad del café molido y que la extracción sea siempre uniforme a lo largo de toda la bolsa.\n",
    "- Además, siguiendo lo observado en el artículo ``Analysing extraction uniformity from porous coffee beds using mathematical modelling and computational fluid dynamics approaches``, trabajar con una estructura cónica podría mejorar el proceso de extracción, puesto que aumenta el flujo y la concentración conforme la disolución va avanzando. Por lo que podría ser una mejora, lo más importante, es que la base sea plana para mantener la uniformidad."
   ]
  },
  {
   "cell_type": "markdown",
   "id": "24febdc8",
   "metadata": {},
   "source": [
    "# Referencias\n",
    "1. B. R. Corrochano, _et al_. 2014. ``A new methodology to estimate the steady-state permeability of roast and ground coffee in packed beds``.\n",
    "2. V. Sobolík, _et al_. 2002. ``Viscosity and electrical conductivity of concentrated solutions of soluble coffee``.\n",
    "3. K. M. Moroney, _et al_. 2019. ``Analysing extraction uniformity from porous coffee beds using mathematical modelling and computational fluid dynamics approaches``.\n",
    "4. N. Cordoba, _et al_. 2020. ``Coffee extraction: A review of parameters and their influence on the physicochemical characteristics and flavour of coffee brews``\n",
    "5. D. Beverly, _et al_. 2020. ``Modeling Mass and Heat Transfer in Multiphase Coffee Aroma Extraction``"
   ]
  }
 ],
 "metadata": {
  "kernelspec": {
   "display_name": "Python 3",
   "language": "python",
   "name": "python3"
  },
  "language_info": {
   "codemirror_mode": {
    "name": "ipython",
    "version": 3
   },
   "file_extension": ".py",
   "mimetype": "text/x-python",
   "name": "python",
   "nbconvert_exporter": "python",
   "pygments_lexer": "ipython3",
   "version": "3.8.8"
  }
 },
 "nbformat": 4,
 "nbformat_minor": 5
}
