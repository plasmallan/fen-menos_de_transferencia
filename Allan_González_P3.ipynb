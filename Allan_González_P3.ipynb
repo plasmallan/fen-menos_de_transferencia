{
 "cells": [
  {
   "cell_type": "markdown",
   "id": "682c76fa",
   "metadata": {},
   "source": [
    "# Descripción del método de extracción\n",
    "\n",
    "El procedimiento para la preparación del café viene dado de la siguiente manera:\n",
    "\n",
    "1. Utilice 30 g de café molido. La molienda debe ser media, una granulometría media entre azúcar y sal de mesa, esto para que exista una buena superficie de contacto entre el grano molido de café y el agua, permitiendo alcanzar una mejor extracción sin que el granulado atraviese el filtro.\n",
    "2. En total se utilizarán 500 mL de agua, ellos se verterán de la siguiente manera:\n",
    "    1. En el tiempo 0 vierta 60 g de agua, agite con una cuchara para mojar toda la cama de café y espere. Esto permite calentar el granulado y prepararlo para el proceso de extracción, las capas más superficiales de la molienda se van a suavizar, de forma que se comienza a liberar el café que se desea extraer.\n",
    "    2. A los 30 segundos continúe vertiendo agua, debe verterla de tal forma que a los 60 segundos haya vertido un total de 300 mL (los 60 mL iniciales incluidos). En este momento, inicia el proceso de extracción, se realiza por partes para poder garantizar que cada porción de agua añadida extraiga de forma efectiva.\n",
    "    3. A los 60 segundos disminuya el flujo y vierta los restantes 200 mL en los siguientes 30 segundos. Esto permite realizar una extracción más profunda de los residuos de café restantes.\n",
    "3. Agite la superficie del café con un giro en cada sentido, esto permite garantizar una mayor uniformidad.\n",
    "4. Deje que el café termine de filtrarse."
   ]
  },
  {
   "cell_type": "markdown",
   "id": "3b7c8179",
   "metadata": {},
   "source": [
    "# Parámetros y variables\n",
    "\n",
    "Las **variables**:\n",
    "- Concentración de café.\n",
    "- Flujo de volumen de agua.\n",
    "- Masa de café molido.\n",
    "- Flujo de salida de café.\n",
    "\n",
    "Los **parámetros**:\n",
    "- Porosidad del chorreador.\n",
    "- Coeficiente de difusividad másica del café molido.\n",
    "- Factor de fricción del café molido.\n",
    "- Número de Reynolds del agua atravesando el café molido.\n",
    "- Densidad del agua caliente.\n",
    "- Densidad del café a la salida del chorreador.\n",
    "- Área transversal del flujo.\n",
    "- Concentración de café a la salida del chorreador.\n",
    "- Espesor de la cama de café molido.\n",
    "- Viscosidad de la disolución de café en agua."
   ]
  },
  {
   "cell_type": "markdown",
   "id": "2cf3e156",
   "metadata": {},
   "source": [
    "# Ecuaciones necesarias\n",
    "\n",
    "1. **Leyes de Fick**: Permiten definir la forma en la que se distribuye la masa de los gránulos de café en el tiempo y cómo va cambiando la concentración. $$\\vec{J}=-D\\nabla C$$ $$\\frac{\\partial C}{\\partial t}=D\\nabla^2 C$$ En el artículo ``Coffee extraction: A review of parameters and their influence on the physicochemical characteristics and flavour of coffee brews`` en las ecuaciones $1$, $2$ y $3$ se muestra la aplicación de la primera ley de Fick para el flujo de café de la forma: $$J=AD_{\\textrm{café}}\\frac{\\left(c'-c_{1}'\\right)}{r}$$ $$J=A\\left(k_{1}c_{1}'-k_{-1}c_{1}\\right)$$ $$J=AD_{\\textrm{solución}}\\frac{\\left(c_{1}-c\\right)}{\\delta}$$ En el caso de la segunda Ley de Fick, es necesario realizar un planteamiento similar para la parte temporal, y para la espacial, se puede plantear similar al caso de la primera Ley de Fick de forma que se toman las expresiones para $\\nabla C$, de donde se obtienen dos ecuaciones para los dos regímenes: $$\\frac{dC}{dt}=D_{\\textrm{café}}\\frac{\\left(-c'+c_{1}'\\right)^2}{r^2}$$ $$\\frac{dC}{dt}=D_{\\textrm{solución}}\\frac{\\left(-c_{1}+c\\right)^2}{\\delta^2}$$ Entre las dos ecuaciones se logra obtener la solución para todo el espacio.\n",
    "\n",
    "2. **Ley de Darcy**: Permite obtener el flujo de café a la salida del chorreador. $$G=\\frac{kA}{\\mu L}\\left(\\Delta p\\right)$$\n",
    "    - Para encontrar el valor de $\\Delta p$, se debe realizar un balance de masa, de la forma $G_{i}-G=Ah$, de donde se obtiene el valor de la columna $h$ en el tiempo, que permite obtener la presión en la cama de café, y la atmosférica en la salida del chorreador. De donde se obtiene que $\\Delta p=\\rho gh$. $$G=\\frac{kA}{\\mu L}\\left(\\rho gh\\right)$$ Donde $h$ corresponde a la altura de la columna de agua.\n",
    "    \n",
    "3. **Ecuación de la viscosidad del café**: A partir de la fracción de sólidos en la disolución de café y la temperatura de estos, se tiene que la viscosidad de la disolución está dada por la ecuación del artículo ``Viscosity and electrical conductivity of concentrated solutions of soluble coffee`` $$\\mu=\\exp{\\left[-12.96-9.43\\omega+8.12\\omega^2+\\left(1789+4382\\omega\\right)/\\left(T+273.15\\right)\\right]}$$\n",
    "    - La temperatura $T$ será tomada como $87.5$ °C, con $\\omega=0.01325$, de forma que la viscosidad a utilizar tendrá un valor de $\\mu=0.000\\,348\\,44$ Pa s.\n",
    "\n",
    "4. **Ecuación de permeabilidad**: Permite obtener el coeficiente de permeabilidad $k$ a partir de lo expuesto en la ecuación $3$ del artículo ``A new methodology to estimate the steady-state permeability of roast and ground coffee in packed beds``. $$k=\\frac{\\varepsilon_{\\textrm{cama}}^3d_{s}^2}{180\\left(1-\\varepsilon_{\\textrm{cama}}\\right)^2}$$\n",
    "\n",
    "# Acople de los modelos\n",
    "\n",
    "Se pueden acoplar las ecuaciones a través de la ecuación de continuidad, utilizando la Ley de Darcy para definir el flujo a través de la cama de café molido, tomando la viscosidad a partir de la ecuación dada por el artículo, así como la permeabilidad de la última ecuación mostrada. Este flujo podría a través del flujo de masa del fluido de café, pasarse a concentración, introducirse en la primera Ley de Fick, que podría luego acoplarse a través de la ecuación de continuidad con la segunda Ley de Fick:\n",
    "\n",
    "$$\\frac{\\partial C}{\\partial t}+\\nabla\\cdot \\vec{J}=R$$\n",
    "\n",
    "Donde $R$ corresponde a una fuente de concentración $C$ que vendría siendo la dada por la cama de café.\n",
    "\n",
    "# Propuesta de mejora para el chorreador costarricense\n",
    "\n",
    "- La base de la bolsa debería ser plana, para mantener la uniformidad del café molido y que la extracción sea siempre uniforme a lo largo de toda la bolsa.\n",
    "- Además, siguiendo lo observado en el artículo ``Analysing extraction uniformity from porous coffee beds using mathematical modelling and computational fluid dynamics approaches``, trabajar con una estructura cónica podría mejorar el proceso de extracción, puesto que aumenta el flujo y la concentración conforme la disolución va avanzando. Por lo que podría ser una mejora, lo más importante, es que la base sea plana para mantener la uniformidad."
   ]
  },
  {
   "cell_type": "markdown",
   "id": "4aeb569e",
   "metadata": {},
   "source": [
    "# Simulación en COMSOL _Multiphysics_\n",
    "\n",
    "Existen muchos parámetros desconocidos, que es necesario analizar para poder realizar una simulación con las condiciones más realistas posibles. A través de los módulos de Darcy, Transporte de especie Diluida en Medio poroso y Flujo Laminar, se puede a coplar a través de multifísica los últimos dos para obtener un módulo de flujo reactivo de especie diluida. Entonces, se pueden comparar las geometrías cónica y cilíndrica en la cama del café.\n",
    "\n",
    "Así por ejemplo se puede observar la forma en la que se distribuye la temperatura para ambas geometrías, presentando la geometría cilíndrica una distribución de la temperatura más uniforme.\n",
    "\n",
    "![Tcono](figuras/Temperatura_cono.PNG) ![Tcil](figuras/Temperatura_cilindro.PNG)\n",
    "\n",
    "De igual forma, se observa cómo se distribuyen las presiones en ambas geometrías, siendo así que hay una distribución más uniforme para la geometría cilíndrica.\n",
    "\n",
    "![Pcono](figuras/Presión_cono.PNG) ![Pcil](figuras/Presión_cilindro.PNG)\n",
    "\n",
    "Luego, se observa lo mismo para el caso del flujo de Darcy, donde se observa que la velocidad del flujo se distribuye mejor para el caso de la geometría cilíndrica, mientras que para el cono se queda más lento hacia los lados.\n",
    "\n",
    "![FDcono](figuras/FlujoDarcy_cono.PNG) ![FDcil](figuras/FlujoDarcy_cilindro.PNG)\n",
    "\n",
    "Por último, al observar la transferencia de masa, se observa que en las paredes del cono se atasca mayor cantidad de masa.\n",
    "\n",
    "![Ccono](figuras/Concentración_cono.PNG) ![Ccil](figuras/Concentración_cilindro.PNG)\n",
    "\n",
    "## Trabajo pendiente\n",
    "\n",
    "- Incorporar una capa de agua por sobre la superficie del café molido para hacer más realista el proceso.\n",
    "- Segmentar el procedimiento de acuerdo con lo que se observa en el procedimiento, de forma que se pueda construir la simulación de acuerdo a los flujos correspondientes.\n",
    "- Establecer mejores condiciones iniciales y de frontera que permitan que la simulación funcione de acuerdo a lo que se observaría en a realidad.\n",
    "- Estudiar la mejor forma de acoplar la ecuación de Darcy con las Leyes de Fick, puesto que en los módulos de COMSOL _Multiphysics_ no se permite acoplar estos modelos directamente."
   ]
  },
  {
   "cell_type": "markdown",
   "id": "af05676a-ec0d-4b11-92bc-8fcec17d99c4",
   "metadata": {},
   "source": [
    "# Resolución mediante Python\n",
    "\n",
    "A continuación se desarrolla una solución utilizando Python, basada en las notas asociadas al proyecto dadas por el profesor:\n",
    "\n",
    "Se tiene la ecuación de Darcy:\n",
    "\n",
    "$$Q=\\frac{KA}{\\mu L}\\Delta P$$\n",
    "\n",
    "Donde $\\Delta P=\\rho gh(t)$, la altura de la columna de agua deberá ser determinada por un balance de masa de la forma:\n",
    "\n",
    "$$\\frac{dV}{dt}=\\dot{V}_{i}-\\dot{V}_{o}$$\n",
    "\n",
    "$$h(t)=\\frac{V(t)}{A}$$\n",
    "\n",
    "Además, se cuenta con las leyes de Fick:\n",
    "\n",
    "$$\\dot{J}_{x}=-D_{AB}^{'}\\frac{dC}{dx}$$\n",
    "$$\\dot{J}_{x}=k_{eff}\\Delta C$$\n",
    "\n",
    "Y\n",
    "\n",
    "$$\\frac{\\partial C}{\\partial t}=D_{AB}^{\"}\\nabla^2C$$\n",
    "\n",
    "Ahora, se deben definir el área transversal $A$, la permeabilidad $K$, la viscosidad $\\mu$ y la profindidad $L$. Se propone trabajar con un lecho cilíndrico, que tenga un radio de $4\\textrm{ cm}$, de forma que se asemeje al lechoo cilíndrico que se resolvió en COMSOL _Multiphysics_. Esto da que $A=5.02655\\times10^{-3}\\textrm{ m}^2$ y también se escoge que $L=2.5\\textrm{ cm}$. La viscosidad vendrá dada de la forma que se mostró al inicio por V. Sobolík, et al. 2002:\n",
    "\n",
    "$$\\mu=\\exp{\\left[-12.96-9.43\\omega+8.12\\omega^2+\\left(1789+4382\\omega\\right)/\\left(T+273.15\\right)\\right]}$$\n",
    "\n",
    "Donde $\\omega$ se seleccionará de forma que se cumpla lo presentado en N. Cordoba, et al. 2020. Se propone entonces, calcular el valor de $K$ para un café dado, pues depende de la molienda.\n",
    "\n",
    "## Algoritmo\n",
    "\n",
    "Asumiendo que existe simetría entorno al eje vertical, se puede establecer un espacio de solución que resuelva únicamente para un corte axisimétrico, de forma que se define un rectángulo en $r$ y $z$, coordenadas cilíndricas, cada celda tendrá una profundidad $rd\\vartheta$."
   ]
  },
  {
   "cell_type": "code",
   "execution_count": 1,
   "id": "33459355-a353-499f-939f-202f08cd2037",
   "metadata": {},
   "outputs": [],
   "source": [
    "import numpy as np\n",
    "import matplotlib.pyplot as plt"
   ]
  },
  {
   "cell_type": "code",
   "execution_count": 2,
   "id": "727f60c9-4bb3-4b14-8a2a-53c3c7c87699",
   "metadata": {},
   "outputs": [],
   "source": [
    "# definición de la matriz-espacio de solución\n",
    "\n",
    "dr=0.1e-2 # diferencial radial, m\n",
    "dz=0.1e-2 # diferencial vertical, m\n",
    "dtheta=0.001 # diferencial axial, radianes\n",
    "\n",
    "r=np.arange(0,4e-2+dr,dr) # arreglo de puntos sobre eje r\n",
    "z=np.arange(0,2.5e-2+dz,dz) # arreglo de puntos sobre eje z\n",
    "R,Z=np.meshgrid(r,z) # mallado en el espacio r,z"
   ]
  },
  {
   "cell_type": "markdown",
   "id": "8c1ba637-463d-4639-98db-e78b63afe678",
   "metadata": {},
   "source": [
    "El agua que ingresa en $z=0$ tiene una concentración de sólidos igual a $0\\textrm{g/L}$. Corresponde a ahora definir el tamaño de los _steps_ temporales. En el caso de COMSOL _MUltiphysics_ se seleccionaron pasos de $1\\textrm{ s}$; sin embargo, dependiendo de cómo se realice la discretización y la forma en la que queden dispuestos los parámetros en la solución del sistema se deberá determinar la forma correcta de definirlo."
   ]
  },
  {
   "cell_type": "code",
   "execution_count": 3,
   "id": "3b18d817-dd6f-473c-a891-1b34b3d61753",
   "metadata": {},
   "outputs": [],
   "source": [
    "dt=0.0001 # Diferencial temporal, s"
   ]
  },
  {
   "cell_type": "code",
   "execution_count": 4,
   "id": "2fa2c436-25b8-4ace-9d5a-3ec4c1ef9810",
   "metadata": {},
   "outputs": [],
   "source": [
    "# parámetros fijos\n",
    "\n",
    "A=(4)**2*np.pi\n",
    "L=2.5\n",
    "K=1\n",
    "keff=0.5\n",
    "rho=1\n",
    "g=9.81\n",
    "T=80 # degC\n",
    "jx=1.5"
   ]
  },
  {
   "cell_type": "code",
   "execution_count": 5,
   "id": "a85e6233-cf3a-48dd-ab36-a8743d65f840",
   "metadata": {},
   "outputs": [],
   "source": [
    "# cálculo de la viscosidad\n",
    "def mu(omega):\n",
    "    return np.exp(-12.96-9.43*omega+8.12*omega**2+(1789+4382*omega)/(T+273.15))"
   ]
  },
  {
   "cell_type": "code",
   "execution_count": 6,
   "id": "55c03faf-2f58-4a56-aa16-f301f76c8c8a",
   "metadata": {},
   "outputs": [],
   "source": [
    "def Darcy(mu,h):\n",
    "    return K*A*rho*g*h/mu/L"
   ]
  },
  {
   "cell_type": "code",
   "execution_count": 7,
   "id": "04f0ccb3-920a-4897-84ad-85f07f391966",
   "metadata": {},
   "outputs": [],
   "source": [
    "# Condiciones iniciales\n",
    "Vo=0\n",
    "Vi=13 # mL/s\n",
    "\n",
    "# Matriz de concentración inicial\n",
    "\n",
    "C_bed=np.ones_like(Z)\n",
    "C_bed[:,0]=0\n",
    "C_fluid=np.zeros_like(Z)"
   ]
  },
  {
   "cell_type": "code",
   "execution_count": 8,
   "id": "59f2db97-93f2-49f8-9eda-6dd50f21b45d",
   "metadata": {},
   "outputs": [
    {
     "name": "stderr",
     "output_type": "stream",
     "text": [
      "C:\\Users\\allan\\AppData\\Local\\Temp/ipykernel_2328/3434944385.py:2: RuntimeWarning: overflow encountered in double_scalars\n",
      "  return K*A*rho*g*h/mu/L\n"
     ]
    }
   ],
   "source": [
    "omega=0\n",
    "for i in np.arange(0,100):\n",
    "    for j in range(len(z)-1):\n",
    "        for k in range(len(r)-1):\n",
    "            dV=(Vi-Vo)*(i*dt)\n",
    "            h=dV/A\n",
    "            Vo=Darcy(mu(omega),h)\n",
    "            omega=C_bed[j,k]-jx/keff\n",
    "            C_bed[j,k]-=omega"
   ]
  },
  {
   "cell_type": "code",
   "execution_count": 9,
   "id": "5fdf0730-564f-446a-9445-ee8d31ccf9a8",
   "metadata": {},
   "outputs": [
    {
     "data": {
      "text/plain": [
       "array([[3., 3., 3., ..., 3., 3., 1.],\n",
       "       [3., 3., 3., ..., 3., 3., 1.],\n",
       "       [3., 3., 3., ..., 3., 3., 1.],\n",
       "       ...,\n",
       "       [3., 3., 3., ..., 3., 3., 1.],\n",
       "       [3., 3., 3., ..., 3., 3., 1.],\n",
       "       [0., 1., 1., ..., 1., 1., 1.]])"
      ]
     },
     "execution_count": 9,
     "metadata": {},
     "output_type": "execute_result"
    }
   ],
   "source": [
    "C_bed"
   ]
  },
  {
   "cell_type": "markdown",
   "id": "ea022d7d-0470-4543-8167-6654a50aa660",
   "metadata": {},
   "source": [
    "Aún no hay un entendimiento exacto sobre la forma en que se realiza la transferencia de masa, por lo que no se puede iterar de forma correcta sobre la matriz de concentraciones, esto queda como parte del trabajo pendiente."
   ]
  },
  {
   "cell_type": "markdown",
   "id": "24febdc8",
   "metadata": {},
   "source": [
    "# Referencias\n",
    "1. B. R. Corrochano, _et al_. 2014. ``A new methodology to estimate the steady-state permeability of roast and ground coffee in packed beds``.\n",
    "2. V. Sobolík, _et al_. 2002. ``Viscosity and electrical conductivity of concentrated solutions of soluble coffee``.\n",
    "3. K. M. Moroney, _et al_. 2019. ``Analysing extraction uniformity from porous coffee beds using mathematical modelling and computational fluid dynamics approaches``.\n",
    "4. N. Cordoba, _et al_. 2020. ``Coffee extraction: A review of parameters and their influence on the physicochemical characteristics and flavour of coffee brews``\n",
    "5. D. Beverly, _et al_. 2020. ``Modeling Mass and Heat Transfer in Multiphase Coffee Aroma Extraction``"
   ]
  }
 ],
 "metadata": {
  "kernelspec": {
   "display_name": "Python 3 (ipykernel)",
   "language": "python",
   "name": "python3"
  },
  "language_info": {
   "codemirror_mode": {
    "name": "ipython",
    "version": 3
   },
   "file_extension": ".py",
   "mimetype": "text/x-python",
   "name": "python",
   "nbconvert_exporter": "python",
   "pygments_lexer": "ipython3",
   "version": "3.9.7"
  }
 },
 "nbformat": 4,
 "nbformat_minor": 5
}
