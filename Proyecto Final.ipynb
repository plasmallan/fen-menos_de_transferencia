{
 "cells": [
  {
   "cell_type": "markdown",
   "id": "659f676f-068c-4933-a813-4a4d70a9ba88",
   "metadata": {},
   "source": [
    "# Cálculos preliminares de diseño"
   ]
  },
  {
   "cell_type": "code",
   "execution_count": 1,
   "id": "14f70068-b233-4f22-9831-1ba28ac9cb7b",
   "metadata": {},
   "outputs": [],
   "source": [
    "import numpy as np\n",
    "import matplotlib.pyplot as plt"
   ]
  },
  {
   "cell_type": "code",
   "execution_count": 2,
   "id": "251a9d9a-a9ef-4948-b177-d43ac662adda",
   "metadata": {},
   "outputs": [],
   "source": [
    "# Parámetros constantes\n",
    "Tco=60 # Temperatura frío salida\n",
    "Tci=40 # Temperatura frío entrada\n",
    "dotmc=20 # flujo de masa frío\n",
    "Tho=20 # Temperatura caliente salida\n",
    "Thi=80 # Temperatura caliente entrada\n",
    "# dotmh=40 # flujo de masa caliente\n",
    "\n",
    "# parámetros de las placas\n",
    "s=4.62645\n",
    "l=1242e-3\n",
    "dp=2e-2\n",
    "kappa=54\n",
    "# h=2500\n",
    "G=75\n",
    "v=75/s\n",
    "Prw=0.9\n",
    "corr=45"
   ]
  },
  {
   "cell_type": "code",
   "execution_count": 3,
   "id": "56f7672c-a829-4fab-ae5c-5b1d6ae67168",
   "metadata": {},
   "outputs": [],
   "source": [
    "# Parámtros Leche\n",
    "CpL=3893.72\n",
    "\n",
    "def DensidadLeche(T):\n",
    "    # return 3.50e-2-3.58e-4*T+4.9e-6*T**2-1e-7*T**3\n",
    "    return 1032.4\n",
    "\n",
    "def ViscosidadLeche(T):\n",
    "    return 1.236e-3"
   ]
  },
  {
   "cell_type": "code",
   "execution_count": 4,
   "id": "7a7b91af-3c14-4898-b33f-1e7c05906eaf",
   "metadata": {},
   "outputs": [],
   "source": [
    "# Parámetros del agua\n",
    "CpW=4186\n",
    "\n",
    "def DensidadAgua(T):\n",
    "    return 997\n",
    "\n",
    "def ViscosidadAgua(T):\n",
    "    return 899.85e-6"
   ]
  },
  {
   "cell_type": "code",
   "execution_count": 5,
   "id": "83abb351-43f0-40bd-bff8-f890ed688700",
   "metadata": {},
   "outputs": [],
   "source": [
    "def HeatFlux(Ti,To,dotm,Cp):\n",
    "    return dotm*Cp*(To-Ti)"
   ]
  },
  {
   "cell_type": "code",
   "execution_count": 6,
   "id": "1307ed08-abc0-4256-94a2-f26c6b0adea3",
   "metadata": {},
   "outputs": [],
   "source": [
    "def Reynolds(rho,v,Dh,mu):\n",
    "    return rho*v*Dh/mu"
   ]
  },
  {
   "cell_type": "code",
   "execution_count": 7,
   "id": "c8799057-af16-467a-9fe6-a8e1e3ff5b57",
   "metadata": {},
   "outputs": [],
   "source": [
    "def DiámetroHidráulico(l,d):\n",
    "    return 2*l*d/(l+d)"
   ]
  },
  {
   "cell_type": "code",
   "execution_count": 8,
   "id": "fbbfd059-e576-43f6-a027-eefb3aee0b9a",
   "metadata": {},
   "outputs": [],
   "source": [
    "def Prandtl(mu,Cp,kappa):\n",
    "    return mu*Cp/kappa"
   ]
  },
  {
   "cell_type": "code",
   "execution_count": 9,
   "id": "986a49a8-989d-43c6-8154-6d2066da93da",
   "metadata": {},
   "outputs": [],
   "source": [
    "def Nusselt(Re,Pr,corr):\n",
    "    if corr<30:\n",
    "        if Re<=10:\n",
    "            a=0.718\n",
    "            b=0.349\n",
    "        elif R>10:\n",
    "            a=0.348\n",
    "            b=0.663\n",
    "    elif corr==45:\n",
    "        if Re<=10:\n",
    "            a=0.718\n",
    "            b=0.349\n",
    "        elif 10<Re<=100:\n",
    "            a=0.4\n",
    "            b=0.598\n",
    "        elif Re>100:\n",
    "            a=0.3\n",
    "            b=0.663\n",
    "    elif cor==50:\n",
    "        if Re<=20:\n",
    "            a=0.630\n",
    "            b=0.333\n",
    "        elif 20<Re<=300:\n",
    "            a=0.291\n",
    "            b=0.591\n",
    "        elif Re>300:\n",
    "            a=0.130\n",
    "            b=0.732\n",
    "    elif corr==60:\n",
    "        if Re<=20:\n",
    "            a=0.562\n",
    "            b=0.326\n",
    "        elif 20<Re<=400:\n",
    "            a=0.306\n",
    "            b=0.529\n",
    "        elif Re>400:\n",
    "            a=0.108\n",
    "            b=0.703\n",
    "    elif corr>65:\n",
    "        if Re<=20:\n",
    "            a=0.562\n",
    "            b=0.326\n",
    "        elif 20<Re<=500:\n",
    "            a=0.331\n",
    "            b=0.503\n",
    "        elif Re>500:\n",
    "            a=0.087\n",
    "            b=0.718\n",
    "            \n",
    "    return a*Re**b*Pr**0.33*(Pr/Prw)**0.13"
   ]
  },
  {
   "cell_type": "code",
   "execution_count": 10,
   "id": "4285060d-1aa6-44a8-8a08-abd35c603739",
   "metadata": {},
   "outputs": [],
   "source": [
    "H=7 # Coeficiente de transferencia de calor total\n",
    "error=1\n",
    "while True:\n",
    "    PhiL=HeatFlux(Tci,Tco,dotmc,CpL)\n",
    "    dotmh=PhiL/CpW/(Tho-Thi)\n",
    "    A=PhiL/H/np.abs((Tco-Tci)+(Tho-Thi))/2\n",
    "    N=A/s\n",
    "    n=(N-1)/2\n",
    "    hc=Nusselt(Reynolds(1.03,v,DiámetroHidráulico(l,dp),ViscosidadLeche(1)),Prandtl(ViscosidadLeche(1),CpL,kappa),corr)*ViscosidadLeche(1)/DiámetroHidráulico(l,dp)\n",
    "    hh=Nusselt(Reynolds(DensidadAgua(1),v,DiámetroHidráulico(l,dp),ViscosidadAgua(1)),Prandtl(ViscosidadAgua(1),CpW,kappa),corr)*ViscosidadAgua(1)/DiámetroHidráulico(l,dp)\n",
    "    Hestimado=1/hc+0.1+1/hh+0.1+1e-2/kappa\n",
    "    error=np.abs(Hestimado-H)\n",
    "    if error>0.01:\n",
    "        H=Hestimado\n",
    "    else:\n",
    "        break"
   ]
  },
  {
   "cell_type": "code",
   "execution_count": 11,
   "id": "7e9f2dbc-ed40-4e71-b67b-d7f5f06d3a1a",
   "metadata": {},
   "outputs": [
    {
     "data": {
      "text/plain": [
       "(5.229361104084158,\n",
       " 804.7078112661417,\n",
       " 401.85390563307084,\n",
       " 0.20143561368450758,\n",
       " 15.42960485106117)"
      ]
     },
     "execution_count": 11,
     "metadata": {},
     "output_type": "execute_result"
    }
   ],
   "source": [
    "H,N,n,hc,hh"
   ]
  },
  {
   "cell_type": "markdown",
   "id": "8a19d229-378a-4f10-90cb-5cd868bf7e40",
   "metadata": {},
   "source": [
    "# Caída de presión"
   ]
  }
 ],
 "metadata": {
  "kernelspec": {
   "display_name": "Python 3 (ipykernel)",
   "language": "python",
   "name": "python3"
  },
  "language_info": {
   "codemirror_mode": {
    "name": "ipython",
    "version": 3
   },
   "file_extension": ".py",
   "mimetype": "text/x-python",
   "name": "python",
   "nbconvert_exporter": "python",
   "pygments_lexer": "ipython3",
   "version": "3.9.7"
  }
 },
 "nbformat": 4,
 "nbformat_minor": 5
}
