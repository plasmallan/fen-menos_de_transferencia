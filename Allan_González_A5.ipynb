{
 "cells": [
  {
   "cell_type": "markdown",
   "id": "05f96f24",
   "metadata": {},
   "source": [
    "# Datos iniciales\n",
    "\n",
    "- $h_1=13$ m, altura del agua a la base del tanque.\n",
    "- $h_2=59$, m, altura de la base del tanque al suelo.\n",
    "- $P_1=101.325\\times10^{3}$ Pa, presión atmosférica.\n",
    "- $P_2=500\\times10^{3}$ Pa, presión en el punto de interés.\n",
    "- $D$ m, diámetro de la tubería.\n",
    "- $\\rho=997,087$ kg/m$^3$, densidad del agua a $25$ °C.\n",
    "- $\\mu=0.0008891$ Pa/s, viscosidad dinámica del agua a $25$ °C.\n",
    "- $\\varepsilon=0.0015\\times10^{-3}$ m, rugosidad.\n",
    "- $w$ J/m$^3$, trabajo.\n",
    "- $L=183$ m, longitud $x$ de la tubería.\n",
    "- $h_L$ J/m$^3$, pérdida por fricción.\n",
    "- $g=9.80665$ m/s$^2$, gravedad.\n",
    "    \n",
    "![algoritmo](figuras/Diagrama.JPG)\n",
    "\n",
    "# Planteamiento del modelo\n",
    "\n",
    "Se tienen la ecuación general de Bernoulli:\n",
    "    \n",
    "    \n",
    "$$P_1+\\frac{\\rho v_{1}^{2}}{2}+\\rho g h_{1}+w=P_{2}+\\frac{\\rho v_{2}^{2}}{2}+\\rho g h_{2}+h_{L}$$\n",
    "    \n",
    "La fórmula del número de Reynolds:\n",
    "\n",
    "$$R_e=\\frac{\\rho v D}{\\mu}$$\n",
    "\n",
    "Fórmula de las pérdidas por fricción:\n",
    "\n",
    "$$h_L=2f\\frac{v^2L}{gD}$$\n",
    "\n",
    "Para $f$ se utilizará la expresión:\n",
    "\n",
    "\n",
    "$$f=2\\left[\\left(\\frac{8}{R_e}\\right)^{12}+\\frac{1}{\\left(A+B\\right)^{3/2}}\\right]^{1/12}$$\n",
    "\n",
    "Donde:\n",
    "\n",
    "\n",
    "- $$A=\\left[2.457\\ln{\\left(\\frac{1}{\\left(\\frac{7}{R_e}\\right)^{0.9}+\\frac{0.27\\varepsilon}{D}}\\right)}\\right]^{16}$$\n",
    "- $$B=\\left(\\frac{37.530}{R_e}\\right)^{16}$$\n",
    "\n",
    "# Solución\n",
    "\n",
    "Como se conoce $Q$, se tiene que:\n",
    "\n",
    "$$Q=vA\\Rightarrow v=\\frac{Q}{A}=\\frac{4\\cdot30\\times10^{-3}\\textrm{ m$^3$/s}}{\\pi D^2}$$\n",
    "\n",
    "$$v=38.197\\times10^{-3}D^{-2}\\textrm{ m/s}$$\n",
    "\n",
    "Sustituyendo con la expresión de velocidad en la ecuación del número de Reynolds y la de fricción:\n",
    "\n",
    "$$R_e=42.836\\times10^{3}D^{-1}$$\n",
    "\n",
    "De las expresiones de $f$, $A$ y $B$, se puede entender que $f=f(D)$, por lo que la expresión para $h_L$ en la ecuación de fricción queda como:\n",
    "\n",
    "$$h_L=f(D)\\frac{2.976\\times10^{-4}L}{D^{5}}$$\n",
    "\n",
    "Esta expresión se puede introducir dentro de la ecuación de Bernoulli, y tomando $w=0$ porque no hay presencia de ninguna bomba, además, tomando $h_{1}=0$ y el punto de referencia como la base de la tubería:\n",
    "\n",
    "$$P_1=P_{2}+\\frac{\\rho v^{2}}{2}-\\rho g h_{2}+f(D)\\frac{2.976\\times10^{-4}L}{D^{5}}$$\n",
    "\n",
    "Reacomodando y sustituyendo con la velocidad y el valor de $\\rho$:\n",
    "\n",
    "$$f(D)\\frac{2.976\\times10^{-4}L}{D^{5}}=(P_1-P_2)+\\rho gh_2-0.7274D^{-4}$$\n",
    "\n",
    "Multiplicando por $D^5$ a ambos lados:\n",
    "\n",
    "$$2.976\\times10^{-4}Lf(D)=(P_1-P_2)D^5+\\rho gh_2D^5-0.7274D$$\n",
    "$$2.976\\times10^{-4}Lf(D)=((P_1-P_2)+\\rho gh_2)D^5-0.7274D$$\n",
    "\n",
    "Sustituyendo con los valores conocidos:\n",
    "\n",
    "$$178.232\\times10^{3}D^5-0.7274D-0.05446f(D)=0$$\n",
    "\n",
    "## Método numérico\n",
    "\n",
    "Se plantea resolver la ecuación anterior por medio de Newton-Raphson, llamando $\\Phi(D)=178.232\\times10^{3}D^5-0.7274D-0.05446f(D)$, la solución tendría la forma:\n",
    "\n",
    "$$D_{n+1}=D_{n}-\\frac{\\Phi(D_{n})}{\\Phi'(D_{n})}$$\n",
    "\n",
    "Donde:\n",
    "\n",
    "$$\\Phi'(D)=891.16\\times^{3}D^{4}-0.7274-0.05446f'(D)$$"
   ]
  },
  {
   "cell_type": "code",
   "execution_count": 1,
   "id": "b64a5391",
   "metadata": {},
   "outputs": [],
   "source": [
    "from numpy import log as ln"
   ]
  },
  {
   "cell_type": "code",
   "execution_count": 2,
   "id": "358be9e8",
   "metadata": {},
   "outputs": [],
   "source": [
    "# parámetros del fluido como función del diámetro\n",
    "\n",
    "def Re(D):\n",
    "    return 42.836e3/D\n",
    "\n",
    "def A(D):\n",
    "    return (2.457*ln(1/((7/Re(D))**(0.9)+(0.27*0.0015e-3/D))))**16\n",
    "\n",
    "def B(D):\n",
    "    return (37.530/Re(D))**16\n",
    "\n",
    "def f(D):\n",
    "    return 2*((8/Re(D))**12+1/(A(D)+B(D))**(3/2))**(1/12)"
   ]
  },
  {
   "cell_type": "code",
   "execution_count": 3,
   "id": "00a4907f",
   "metadata": {},
   "outputs": [],
   "source": [
    "# Función a la cual se le desean encontrar los ceros.\n",
    "def Phi(D):\n",
    "    return 178.232e3*D**5-0.7274*D-0.05446*f(D)"
   ]
  },
  {
   "cell_type": "code",
   "execution_count": 4,
   "id": "7ce6ec5b",
   "metadata": {},
   "outputs": [],
   "source": [
    "def Derivada(func,D):\n",
    "    '''\n",
    "    Función que calcula la derivada en un punto de una función determinada en un punto D.\n",
    "    '''\n",
    "    h=0.001*D\n",
    "    delta=func(D+h)-func(D-h)\n",
    "    return delta/(2*h)"
   ]
  },
  {
   "cell_type": "code",
   "execution_count": 5,
   "id": "0dbe15e2",
   "metadata": {},
   "outputs": [],
   "source": [
    "# Derivada de Phi\n",
    "def Phi1(D):\n",
    "    return 891.16e3*D**4-0.7274-0.05446*Derivada(f,D)"
   ]
  },
  {
   "cell_type": "code",
   "execution_count": 6,
   "id": "e3b2b0c6",
   "metadata": {},
   "outputs": [],
   "source": [
    "# Newton-Raphson\n",
    "n=0\n",
    "Di=1\n",
    "while n<1000:\n",
    "    Di-=Phi(Di)/Phi1(Di)\n",
    "    n+=1"
   ]
  },
  {
   "cell_type": "code",
   "execution_count": 7,
   "id": "08752e27",
   "metadata": {},
   "outputs": [
    {
     "data": {
      "text/plain": [
       "0.0450046477400378"
      ]
     },
     "execution_count": 7,
     "metadata": {},
     "output_type": "execute_result"
    }
   ],
   "source": [
    "Di"
   ]
  },
  {
   "cell_type": "code",
   "execution_count": 8,
   "id": "c608c65e",
   "metadata": {},
   "outputs": [
    {
     "data": {
      "text/plain": [
       "8.348356728138384e-18"
      ]
     },
     "execution_count": 8,
     "metadata": {},
     "output_type": "execute_result"
    }
   ],
   "source": [
    "Phi(Di)"
   ]
  },
  {
   "cell_type": "markdown",
   "id": "aa80857a",
   "metadata": {},
   "source": [
    "# Conclusión\n",
    "\n",
    "- El diámetro mínimo obtenido tras dos iteraciones es de $4.5$ cm, evaluado en $Phi(D)$, se aproxima a $0$."
   ]
  }
 ],
 "metadata": {
  "kernelspec": {
   "display_name": "Python 3 (ipykernel)",
   "language": "python",
   "name": "python3"
  },
  "language_info": {
   "codemirror_mode": {
    "name": "ipython",
    "version": 3
   },
   "file_extension": ".py",
   "mimetype": "text/x-python",
   "name": "python",
   "nbconvert_exporter": "python",
   "pygments_lexer": "ipython3",
   "version": "3.8.12"
  }
 },
 "nbformat": 4,
 "nbformat_minor": 5
}
