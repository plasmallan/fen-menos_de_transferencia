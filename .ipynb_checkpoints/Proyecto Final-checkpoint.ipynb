{
 "cells": [
  {
   "cell_type": "markdown",
   "id": "659f676f-068c-4933-a813-4a4d70a9ba88",
   "metadata": {},
   "source": [
    "# Cálculos preliminares de diseño"
   ]
  },
  {
   "cell_type": "code",
   "execution_count": 1,
   "id": "14f70068-b233-4f22-9831-1ba28ac9cb7b",
   "metadata": {},
   "outputs": [],
   "source": [
    "import numpy as np\n",
    "import matplotlib.pyplot as plt"
   ]
  },
  {
   "cell_type": "code",
   "execution_count": 2,
   "id": "251a9d9a-a9ef-4948-b177-d43ac662adda",
   "metadata": {},
   "outputs": [],
   "source": [
    "# Parámetros constantes\n",
    "Tco=100 # Temperatura frío salida\n",
    "Tci=25 # Temperatura frío entrada\n",
    "dTc=np.abs(Tco-Tci)\n",
    "dotmc=1500 # flujo de masa frío\n",
    "\n",
    "Tho=25 # Temperatura caliente salida\n",
    "Thi=140 # Temperatura caliente entrada\n",
    "dTh=np.abs(Tho-Thi)\n",
    "# dotmh=1300 # flujo de masa caliente\n",
    "\n",
    "# parámetros de las placas\n",
    "\n",
    "l=1242e-3 # m\n",
    "L=3725e-3 # m\n",
    "s=L*l\n",
    "dp=2.5e-3 # m\n",
    "kappa=60 # W/(m K)\n",
    "# h=2500\n",
    "G=dotmc/997 # m^3/s\n",
    "vW=G/s # m/s\n",
    "Prw=0.9\n",
    "corr=30 # deg"
   ]
  },
  {
   "cell_type": "code",
   "execution_count": 3,
   "id": "59d0e785-e5ed-48ce-8c6d-801a0dac3331",
   "metadata": {},
   "outputs": [
    {
     "data": {
      "text/plain": [
       "(115, 75)"
      ]
     },
     "execution_count": 3,
     "metadata": {},
     "output_type": "execute_result"
    }
   ],
   "source": [
    "dTh,dTc"
   ]
  },
  {
   "cell_type": "code",
   "execution_count": 4,
   "id": "3e2779a9-8508-4927-ab1c-1f8c2ae97917",
   "metadata": {},
   "outputs": [],
   "source": [
    "dTLM=(dTc-dTh)/np.log(dTc/dTh)"
   ]
  },
  {
   "cell_type": "code",
   "execution_count": 5,
   "id": "56f7672c-a829-4fab-ae5c-5b1d6ae67168",
   "metadata": {},
   "outputs": [],
   "source": [
    "# Parámtros Leche\n",
    "CpL=3893.72e-3\n",
    "\n",
    "def DensidadLeche(T):\n",
    "    # return 3.50e-2-3.58e-4*T+4.9e-6*T**2-1e-7*T**3\n",
    "    return 1032.4\n",
    "\n",
    "def ViscosidadLeche(T):\n",
    "    return 1.236e-3"
   ]
  },
  {
   "cell_type": "code",
   "execution_count": 6,
   "id": "7a7b91af-3c14-4898-b33f-1e7c05906eaf",
   "metadata": {},
   "outputs": [],
   "source": [
    "# Parámetros del agua\n",
    "CpW=4186e-3\n",
    "\n",
    "def DensidadAgua(T):\n",
    "    return 997\n",
    "\n",
    "def ViscosidadAgua(T):\n",
    "    return 899.85e-6"
   ]
  },
  {
   "cell_type": "code",
   "execution_count": 7,
   "id": "83abb351-43f0-40bd-bff8-f890ed688700",
   "metadata": {},
   "outputs": [],
   "source": [
    "def HeatFlux(Ti,To,dotm,Cp):\n",
    "    return dotm*Cp*np.abs(To-Ti)"
   ]
  },
  {
   "cell_type": "code",
   "execution_count": 8,
   "id": "1307ed08-abc0-4256-94a2-f26c6b0adea3",
   "metadata": {},
   "outputs": [],
   "source": [
    "def Reynolds(rho,v,Dh,mu):\n",
    "    return rho*v*Dh/mu"
   ]
  },
  {
   "cell_type": "code",
   "execution_count": 9,
   "id": "c8799057-af16-467a-9fe6-a8e1e3ff5b57",
   "metadata": {},
   "outputs": [],
   "source": [
    "def DiámetroHidráulico(l,d):\n",
    "    return 2*l*d/(l+d)"
   ]
  },
  {
   "cell_type": "code",
   "execution_count": 10,
   "id": "fbbfd059-e576-43f6-a027-eefb3aee0b9a",
   "metadata": {},
   "outputs": [],
   "source": [
    "def Prandtl(mu,Cp,kappa):\n",
    "    return mu*Cp/kappa*1000"
   ]
  },
  {
   "cell_type": "code",
   "execution_count": 11,
   "id": "986a49a8-989d-43c6-8154-6d2066da93da",
   "metadata": {},
   "outputs": [],
   "source": [
    "def Nusselt(Re,Pr,corr):\n",
    "    if corr<=30:\n",
    "        if Re<=10:\n",
    "            a=0.718\n",
    "            b=0.349\n",
    "        elif Re>10:\n",
    "            a=0.348\n",
    "            b=0.663\n",
    "    elif corr==45:\n",
    "        if Re<=10:\n",
    "            a=0.718\n",
    "            b=0.349\n",
    "        elif 10<Re<=100:\n",
    "            a=0.4\n",
    "            b=0.598\n",
    "        elif Re>100:\n",
    "            a=0.3\n",
    "            b=0.663\n",
    "    elif corr==50:\n",
    "        if Re<=20:\n",
    "            a=0.630\n",
    "            b=0.333\n",
    "        elif 20<Re<=300:\n",
    "            a=0.291\n",
    "            b=0.591\n",
    "        elif Re>300:\n",
    "            a=0.130\n",
    "            b=0.732\n",
    "    elif corr==60:\n",
    "        if Re<=20:\n",
    "            a=0.562\n",
    "            b=0.326\n",
    "        elif 20<Re<=400:\n",
    "            a=0.306\n",
    "            b=0.529\n",
    "        elif Re>400:\n",
    "            a=0.108\n",
    "            b=0.703\n",
    "    elif corr>=65:\n",
    "        if Re<=20:\n",
    "            a=0.562\n",
    "            b=0.326\n",
    "        elif 20<Re<=500:\n",
    "            a=0.331\n",
    "            b=0.503\n",
    "        elif Re>500:\n",
    "            a=0.087\n",
    "            b=0.718\n",
    "            \n",
    "    return a*Re**b*Pr**0.33*(Pr/Prw)**0.13"
   ]
  },
  {
   "cell_type": "code",
   "execution_count": 12,
   "id": "4285060d-1aa6-44a8-8a08-abd35c603739",
   "metadata": {},
   "outputs": [],
   "source": [
    "H=7 # Coeficiente de transferencia de calor total\n",
    "P=100\n",
    "p=0\n",
    "while p<P:\n",
    "    Phi=HeatFlux(Tci,Tco,dotmc,CpW)\n",
    "    dotmh=Phi/CpL/np.abs(Tho-Thi)\n",
    "    GL=dotmh/DensidadLeche(1)\n",
    "    A=Phi/(H*dTLM)\n",
    "    vL=GL/s\n",
    "    N=A/s\n",
    "    n=(N-1)/2\n",
    "    hc=Nusselt(Reynolds(DensidadAgua(1),vW,DiámetroHidráulico(l,dp),ViscosidadAgua(1)),Prandtl(ViscosidadAgua(1),CpL,kappa),corr)*ViscosidadAgua(1)/DiámetroHidráulico(l,dp)\n",
    "    hh=Nusselt(Reynolds(DensidadLeche(1),vL,DiámetroHidráulico(l,dp),ViscosidadLeche(1)),Prandtl(ViscosidadLeche(1),CpW,kappa),corr)*ViscosidadLeche(1)/DiámetroHidráulico(l,dp)\n",
    "    Hestimado=1/(1/hc+0.48721+1/hh+0.1864+2e-2/kappa)\n",
    "    error=np.abs(Hestimado-H)\n",
    "    H=Hestimado\n",
    "    p+=1"
   ]
  },
  {
   "cell_type": "code",
   "execution_count": 13,
   "id": "7e9f2dbc-ed40-4e71-b67b-d7f5f06d3a1a",
   "metadata": {},
   "outputs": [
    {
     "name": "stdout",
     "output_type": "stream",
     "text": [
      "H: 0.6844034172797543 kW m^2/K \n",
      " N: 1589.318553141897 \n",
      " n: 794.1592765709485 \n",
      " hc: 2.477707734664763 kW m^2/K \n",
      " hh: 2.6069884745074154 kW m^2/K \n",
      " dotmh: 1051.6934961938712 kg/s \n",
      " Phi: 470925.0 kW/m^2 \n",
      " GL: 1.0186880048371474 m^3/s \n",
      " vL: 0.22018783404924885 m/s \n",
      " error: 0.0\n"
     ]
    }
   ],
   "source": [
    "print(\"H:\",H,\"kW m^2/K \\n N:\",N,\"\\n n:\",n,\"\\n hc:\",hc,\"kW m^2/K \\n hh:\",hh,\"kW m^2/K \\n dotmh:\",dotmh,\"kg/s \\n Phi:\",Phi,\"kW/m^2 \\n GL:\",GL,\"m^3/s \\n vL:\",vL,\"m/s \\n error:\",error)"
   ]
  },
  {
   "cell_type": "markdown",
   "id": "8a19d229-378a-4f10-90cb-5cd868bf7e40",
   "metadata": {},
   "source": [
    "# Caída de presión"
   ]
  },
  {
   "cell_type": "code",
   "execution_count": 14,
   "id": "9e758f12-2085-49d1-8b02-1043cb53ec2d",
   "metadata": {},
   "outputs": [],
   "source": [
    "def FactorFricción(corr,rho,v,mu):\n",
    "    return (corr/30)**(0.83)*((30.2/Reynolds(rho,v,DiámetroHidráulico(l,dp),mu))**5+(6.28/Reynolds(rho,v,DiámetroHidráulico(l,dp),mu)**0.5))**0.2"
   ]
  },
  {
   "cell_type": "code",
   "execution_count": 15,
   "id": "d5250a45-26e1-4027-8386-db64173f9621",
   "metadata": {},
   "outputs": [],
   "source": [
    "def dPch(f,rho,v):\n",
    "    return 2*f*rho*v**2*L/DiámetroHidráulico(l,dp)"
   ]
  },
  {
   "cell_type": "code",
   "execution_count": 16,
   "id": "a1e6b5d7-e998-47f6-8425-752981db9643",
   "metadata": {},
   "outputs": [],
   "source": [
    "def dPco(Np,dotm,Dco,rho):\n",
    "    return 1.4*Np*(4*dotm/(np.pi*Dco**2))**2/(2*rho)*0.9**(-1.7)"
   ]
  },
  {
   "cell_type": "code",
   "execution_count": 17,
   "id": "0666745a-ee2a-438f-9975-bf20a00bbd78",
   "metadata": {},
   "outputs": [],
   "source": [
    "dPchL=dPch(FactorFricción(corr,DensidadLeche(1),vL,ViscosidadLeche(1)),DensidadLeche(1),vL)\n",
    "dPchW=dPch(FactorFricción(corr,DensidadAgua(1),vW,ViscosidadAgua(1)),DensidadAgua(1),vW)"
   ]
  },
  {
   "cell_type": "code",
   "execution_count": 18,
   "id": "f102ffbd-5240-484d-92c8-5504d5ffa714",
   "metadata": {},
   "outputs": [
    {
     "name": "stdout",
     "output_type": "stream",
     "text": [
      "54552.442313076564 Pa\n",
      " 107440.02990949758 Pa\n"
     ]
    }
   ],
   "source": [
    "print(dPchL,\"Pa\\n\",dPchW,\"Pa\")"
   ]
  },
  {
   "cell_type": "code",
   "execution_count": 19,
   "id": "ab3f2abf-170c-4f16-b207-4ca41b6c37ca",
   "metadata": {},
   "outputs": [
    {
     "name": "stdout",
     "output_type": "stream",
     "text": [
      "72181.18745165791 Pa\n",
      " 152048.10143024253 Pa\n"
     ]
    }
   ],
   "source": [
    "dPcoL=dPco(n,dotmh,2,DensidadLeche(1))\n",
    "dPcoW=dPco(n,dotmc,2,DensidadAgua(1))\n",
    "print(dPcoL,\"Pa\\n\",dPcoW,\"Pa\")"
   ]
  },
  {
   "cell_type": "code",
   "execution_count": 20,
   "id": "afcc7bdb-3389-4bb9-b7ae-01fffe01f466",
   "metadata": {},
   "outputs": [
    {
     "name": "stdout",
     "output_type": "stream",
     "text": [
      "126733.62976473448 Pa\n",
      " 259488.13133974012 Pa\n"
     ]
    }
   ],
   "source": [
    "dPL=dPchL+dPcoL\n",
    "dPW=dPchW+dPcoW\n",
    "print(dPL,\"Pa\\n\",dPW,\"Pa\")"
   ]
  }
 ],
 "metadata": {
  "kernelspec": {
   "display_name": "Python 3 (ipykernel)",
   "language": "python",
   "name": "python3"
  },
  "language_info": {
   "codemirror_mode": {
    "name": "ipython",
    "version": 3
   },
   "file_extension": ".py",
   "mimetype": "text/x-python",
   "name": "python",
   "nbconvert_exporter": "python",
   "pygments_lexer": "ipython3",
   "version": "3.9.7"
  }
 },
 "nbformat": 4,
 "nbformat_minor": 5
}
