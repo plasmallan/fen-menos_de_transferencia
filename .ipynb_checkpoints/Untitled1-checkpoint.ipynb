{
 "cells": [
  {
   "cell_type": "code",
   "execution_count": 1,
   "metadata": {},
   "outputs": [
    {
     "name": "stdout",
     "output_type": "stream",
     "text": [
      "nan\n"
     ]
    },
    {
     "name": "stderr",
     "output_type": "stream",
     "text": [
      "<ipython-input-1-5f2ff92d2fc6>:21: RuntimeWarning: invalid value encountered in double_scalars\n",
      "  return (2.457*np.log(1/((7/NRe(D))**0.9+((0.27*E)/D))))**16\n"
     ]
    }
   ],
   "source": [
    "import numpy as np \n",
    "from scipy.misc import derivative \n",
    "\n",
    "#Datos iniciales\n",
    "\n",
    "E = 0.0015e-3 #m\n",
    "D0 = 1e-3 #m\n",
    "DH = 0.1\n",
    "Z = -1.78e5\n",
    "X = 7.27e-1\n",
    "Y = 5.44e-2\n",
    "C = 4.28e4\n",
    "tolerancia = 0.001\n",
    "\n",
    "#Fórmulas dependientes del diámetro\n",
    "\n",
    "def NRe(D):\n",
    "    return C/D\n",
    "\n",
    "def A(D):\n",
    "    return (2.457*np.log(1/((7/NRe(D))**0.9+((0.27*E)/D))))**16\n",
    "\n",
    "def B(D):\n",
    "    return (37.530/NRe(D))**16\n",
    "\n",
    "def f(D):\n",
    "    return 2*((8/NRe(D))**12 + (1/(A(D) + B(D))**(3/2)))**(1/12)\n",
    "\n",
    "def H(D):\n",
    "    return Z + X/D**4 + f(Di)*(Y/D**5)\n",
    "\n",
    "def dH(D):\n",
    "    return (H(D+DH)-H(D-DH))/(2*DH)\n",
    "\n",
    "n = lambda D: H(D)\n",
    "m = lambda D: dH(D)\n",
    "\n",
    "#Método Newton-Rhapson\n",
    "\n",
    "def metodo_N_R(D0, tolerancia):\n",
    "\n",
    "    rango = abs(tolerancia*2)\n",
    "    Di = D0\n",
    "    P = 0\n",
    "\n",
    "    while (rango >= tolerancia):\n",
    "\n",
    "        D = Di - (n(Di+1)/m(Di+1))\n",
    "        rango = abs(D - Di)\n",
    "        Di = D\n",
    "        if P > 1000:\n",
    "            break\n",
    "    print(D)\n",
    "\n",
    "NR = metodo_N_R(n, m, D0, tolerancia)\n",
    "NR"
   ]
  },
  {
   "cell_type": "code",
   "execution_count": 2,
   "metadata": {},
   "outputs": [
    {
     "ename": "NameError",
     "evalue": "name 'H' is not defined",
     "output_type": "error",
     "traceback": [
      "\u001b[1;31m---------------------------------------------------------------------------\u001b[0m",
      "\u001b[1;31mNameError\u001b[0m                                 Traceback (most recent call last)",
      "\u001b[1;32m<ipython-input-2-c922a0fef514>\u001b[0m in \u001b[0;36m<module>\u001b[1;34m\u001b[0m\n\u001b[1;32m----> 1\u001b[1;33m \u001b[0mH\u001b[0m\u001b[1;33m(\u001b[0m\u001b[1;36m0.00121\u001b[0m\u001b[1;33m)\u001b[0m\u001b[1;33m\u001b[0m\u001b[1;33m\u001b[0m\u001b[0m\n\u001b[0m",
      "\u001b[1;31mNameError\u001b[0m: name 'H' is not defined"
     ]
    }
   ],
   "source": [
    "H(0.00121)"
   ]
  },
  {
   "cell_type": "code",
   "execution_count": null,
   "metadata": {},
   "outputs": [],
   "source": []
  },
  {
   "cell_type": "code",
   "execution_count": null,
   "metadata": {},
   "outputs": [],
   "source": []
  }
 ],
 "metadata": {
  "kernelspec": {
   "display_name": "Python 3",
   "language": "python",
   "name": "python3"
  },
  "language_info": {
   "codemirror_mode": {
    "name": "ipython",
    "version": 3
   },
   "file_extension": ".py",
   "mimetype": "text/x-python",
   "name": "python",
   "nbconvert_exporter": "python",
   "pygments_lexer": "ipython3",
   "version": "3.8.8"
  }
 },
 "nbformat": 4,
 "nbformat_minor": 4
}
